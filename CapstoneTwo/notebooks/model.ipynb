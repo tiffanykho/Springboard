{
 "cells": [
  {
   "cell_type": "code",
   "execution_count": null,
   "id": "6027788f",
   "metadata": {},
   "outputs": [],
   "source": [
    "#modeling\n",
    "#Created on: November 17, 2022"
   ]
  },
  {
   "cell_type": "code",
   "execution_count": null,
   "id": "343709b5",
   "metadata": {},
   "outputs": [],
   "source": [
    "#Import necessary packages\n",
    "import pandas as pd\n",
    "pd.options.display.max_columns=10000\n",
    "import numpy as np\n",
    "import seaborn as sns\n",
    "import matplotlib.pyplot as plt"
   ]
  },
  {
   "cell_type": "code",
   "execution_count": null,
   "id": "38e3ebd3",
   "metadata": {},
   "outputs": [],
   "source": [
    "\n",
    "df['LotArea'] > 100\n",
    "#create a 2-variable linear regression that uses your new binary categorical \n",
    "#feature and the existing continuous numerical feature\n",
    "#then add some more numerical features to your model\n",
    "#record each new model's RMSE and the number of features in a dictionary that you save\n",
    "#to disk as json or jsonl e.g. \n",
    "#jsonlines.dump(dict(model='LinearRegression', \n",
    "#num_features=1, rmse=74000), open('file.jsonl', 'a'))\n",
    "#append to that jsonl file with each new model\n",
    "#once you have a few experiments in the jsonl file load it using jsonlines.load(open('file.jsonl'))\n",
    "#and convert to df: experiments=pd.DataFrame(list_of_dicts)\n",
    "#and sort by rmse: experiments.sort_values('rmse')"
   ]
  }
 ],
 "metadata": {
  "kernelspec": {
   "display_name": "Python 3 (ipykernel)",
   "language": "python",
   "name": "python3"
  },
  "language_info": {
   "codemirror_mode": {
    "name": "ipython",
    "version": 3
   },
   "file_extension": ".py",
   "mimetype": "text/x-python",
   "name": "python",
   "nbconvert_exporter": "python",
   "pygments_lexer": "ipython3",
   "version": "3.9.12"
  }
 },
 "nbformat": 4,
 "nbformat_minor": 5
}
