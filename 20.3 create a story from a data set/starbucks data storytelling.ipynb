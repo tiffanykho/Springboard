{
 "cells": [
  {
   "cell_type": "code",
   "execution_count": null,
   "id": "cc4f1ebb",
   "metadata": {},
   "outputs": [],
   "source": [
    "#Create a story from a data set \n",
    "#Created on March 2, 2023\n",
    "#rubric link: https://docs.google.com/document/d/1dp3rOhTjHwjN5lOkXUYc8Qtr6mXE89PuuCV1afSavgk/edit"
   ]
  },
  {
   "cell_type": "code",
   "execution_count": null,
   "id": "d38bd1ac",
   "metadata": {},
   "outputs": [],
   "source": []
  }
 ],
 "metadata": {
  "kernelspec": {
   "display_name": "Python 3 (ipykernel)",
   "language": "python",
   "name": "python3"
  },
  "language_info": {
   "codemirror_mode": {
    "name": "ipython",
    "version": 3
   },
   "file_extension": ".py",
   "mimetype": "text/x-python",
   "name": "python",
   "nbconvert_exporter": "python",
   "pygments_lexer": "ipython3",
   "version": "3.9.12"
  }
 },
 "nbformat": 4,
 "nbformat_minor": 5
}
